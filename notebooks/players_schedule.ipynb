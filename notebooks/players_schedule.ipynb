{
 "cells": [
  {
   "cell_type": "code",
   "execution_count": 28,
   "metadata": {},
   "outputs": [],
   "source": [
    "import pandas as pd\n",
    "import numpy as np"
   ]
  },
  {
   "cell_type": "markdown",
   "metadata": {},
   "source": [
    "# Load Data"
   ]
  },
  {
   "cell_type": "code",
   "execution_count": 44,
   "metadata": {},
   "outputs": [],
   "source": [
    "schedule = pd.read_csv('../data/processed/nba_game_schedule.csv')"
   ]
  },
  {
   "cell_type": "code",
   "execution_count": 45,
   "metadata": {},
   "outputs": [
    {
     "data": {
      "text/plain": [
       "Index(['team_name', '2024-10-22 00:00:00', '2024-10-23 00:00:00',\n",
       "       '2024-10-24 00:00:00', '2024-10-25 00:00:00', '2024-10-26 00:00:00',\n",
       "       '2024-10-27 00:00:00', '2024-10-28 00:00:00', '2024-10-29 00:00:00',\n",
       "       '2024-10-30 00:00:00',\n",
       "       ...\n",
       "       '2025-04-04 00:00:00', '2025-04-05 00:00:00', '2025-04-06 00:00:00',\n",
       "       '2025-04-07 00:00:00', '2025-04-08 00:00:00', '2025-04-09 00:00:00',\n",
       "       '2025-04-10 00:00:00', '2025-04-11 00:00:00', '2025-04-12 00:00:00',\n",
       "       '2025-04-13 00:00:00'],\n",
       "      dtype='object', length=175)"
      ]
     },
     "execution_count": 45,
     "metadata": {},
     "output_type": "execute_result"
    }
   ],
   "source": [
    "schedule.columns"
   ]
  },
  {
   "cell_type": "code",
   "execution_count": 47,
   "metadata": {},
   "outputs": [],
   "source": [
    "# Update with the most recent data when downloaded\n",
    "fantrax = pd.read_csv('../data/raw/fantrax/fantrax_10_14_24.csv')"
   ]
  },
  {
   "cell_type": "markdown",
   "metadata": {},
   "source": [
    "# Clean Fantrax Data"
   ]
  },
  {
   "cell_type": "code",
   "execution_count": 49,
   "metadata": {},
   "outputs": [
    {
     "name": "stdout",
     "output_type": "stream",
     "text": [
      "Index(['id', 'player', 'team', 'position', 'rank_overall', 'fantasy_team',\n",
      "       'age', 'opponent', 'fantasy_points', 'fantasy_points_per_game',\n",
      "       'percent_drafted', 'average_draft_position', 'fgm', 'fga',\n",
      "       'three_pointers_made', 'ftm', 'fta', 'points', 'rebounds', 'assists',\n",
      "       'steals', 'blocks', 'turnovers', 'three_doubles', 'double_doubles'],\n",
      "      dtype='object')\n"
     ]
    }
   ],
   "source": [
    "# Convert column names to snake_case\n",
    "fantrax.columns = fantrax.columns.str.lower().str.replace(' ', '_')\n",
    "\n",
    "# Rename specific columns\n",
    "column_mapping = {\n",
    "    'rkov': 'rank_overall',\n",
    "    'status': 'fantasy_team',\n",
    "    'fpts': 'fantasy_points',\n",
    "    'fp/g': 'fantasy_points_per_game',\n",
    "    '%d': 'percent_drafted',\n",
    "    'adp': 'average_draft_position',\n",
    "    '3ptm': 'three_pointers_made',\n",
    "    'pts': 'points',\n",
    "    'reb': 'rebounds',\n",
    "    'ast': 'assists',\n",
    "    'st': 'steals',\n",
    "    'blk': 'blocks',\n",
    "    'to': 'turnovers',\n",
    "    '3d': 'three_doubles',\n",
    "    '2d': 'double_doubles'\n",
    "}\n",
    "\n",
    "fantrax = fantrax.rename(columns=column_mapping)\n",
    "\n",
    "# Display the updated column names\n",
    "print(fantrax.columns)\n"
   ]
  },
  {
   "cell_type": "code",
   "execution_count": 50,
   "metadata": {},
   "outputs": [],
   "source": [
    "fantrax_clean = fantrax[~fantrax['fantasy_team'].isin(['W (Tue)', 'W (Wed)', 'FA'])]"
   ]
  },
  {
   "cell_type": "code",
   "execution_count": 51,
   "metadata": {},
   "outputs": [
    {
     "data": {
      "text/plain": [
       "array(['CCC', '$¢$', 'BBB', 'HBC', 'Jmarr237', 'Teacups', 'STARKS',\n",
       "       'BIGFOOTS', 'GBRAYERS', 'Orcas', 'SERP', 'SDP'], dtype=object)"
      ]
     },
     "execution_count": 51,
     "metadata": {},
     "output_type": "execute_result"
    }
   ],
   "source": [
    "fantrax_clean['fantasy_team'].unique()\n"
   ]
  },
  {
   "cell_type": "code",
   "execution_count": 52,
   "metadata": {},
   "outputs": [
    {
     "data": {
      "text/plain": [
       "array(['DEN', 'DAL', 'MIL', 'OKC', 'LAL', 'SA', 'SAC', 'BOS', 'NY', 'PHI',\n",
       "       'IND', 'ATL', 'PHO', 'MIN', 'NO', 'CLE', 'TOR', 'HOU', 'LAC',\n",
       "       'ORL', 'MIA', 'CHI', 'GS', 'CHA', 'WAS', 'MEM', 'UTA', 'DET',\n",
       "       'BKN', 'POR'], dtype=object)"
      ]
     },
     "execution_count": 52,
     "metadata": {},
     "output_type": "execute_result"
    }
   ],
   "source": [
    "fantrax_clean['team'].unique()"
   ]
  },
  {
   "cell_type": "code",
   "execution_count": 54,
   "metadata": {},
   "outputs": [
    {
     "data": {
      "text/plain": [
       "array(['SAC', 'GS', 'NY', 'CHA', 'SA', 'PHO', 'LAL', 'BKN', 'ATL', 'MIA',\n",
       "       'DET', 'DAL', 'ORL', 'UTA', 'MIL', 'PHI', 'CLE', 'NO', 'CHI',\n",
       "       'DEN', 'MEM', 'TOR', 'BOS', 'MIN', 'HOU', 'OKC', 'POR', 'WAS',\n",
       "       'LAC', 'IND'], dtype=object)"
      ]
     },
     "execution_count": 54,
     "metadata": {},
     "output_type": "execute_result"
    }
   ],
   "source": [
    "schedule['team_name'].unique()"
   ]
  },
  {
   "cell_type": "markdown",
   "metadata": {},
   "source": [
    "# Merge Data"
   ]
  },
  {
   "cell_type": "code",
   "execution_count": 59,
   "metadata": {},
   "outputs": [
    {
     "name": "stdout",
     "output_type": "stream",
     "text": [
      "                    player fantasy_team  fantasy_points_per_game     position  \\\n",
      "0              Luka Doncic          $¢$                    64.07     PG,G,Flx   \n",
      "1             Nikola Jokic          CCC                    61.72        C,Flx   \n",
      "2    Giannis Antetokounmpo          BBB                    57.79   PF,F,C,Flx   \n",
      "3              Joel Embiid     Jmarr237                    57.20        C,Flx   \n",
      "4  Shai Gilgeous-Alexander          HBC                    55.08  PG,SG,G,Flx   \n",
      "\n",
      "  nba_team  2024-10-22 00:00:00  2024-10-23 00:00:00  2024-10-24 00:00:00  \\\n",
      "0      DAL                    0                    0                    1   \n",
      "1      DEN                    0                    0                    1   \n",
      "2      MIL                    0                    1                    0   \n",
      "3      PHI                    0                    1                    0   \n",
      "4      OKC                    0                    0                    1   \n",
      "\n",
      "   2024-10-25 00:00:00  2024-10-26 00:00:00  ...  2025-04-04 00:00:00  \\\n",
      "0                    0                    1  ...                    1   \n",
      "1                    0                    1  ...                    1   \n",
      "2                    1                    0  ...                    0   \n",
      "3                    1                    0  ...                    0   \n",
      "4                    0                    1  ...                    1   \n",
      "\n",
      "   2025-04-05 00:00:00  2025-04-06 00:00:00  2025-04-07 00:00:00  \\\n",
      "0                    1                    0                    0   \n",
      "1                    0                    1                    0   \n",
      "2                    1                    0                    0   \n",
      "3                    1                    0                    1   \n",
      "4                    0                    1                    0   \n",
      "\n",
      "   2025-04-08 00:00:00  2025-04-09 00:00:00  2025-04-10 00:00:00  \\\n",
      "0                    0                    1                    0   \n",
      "1                    0                    1                    0   \n",
      "2                    1                    1                    0   \n",
      "3                    0                    1                    0   \n",
      "4                    1                    1                    0   \n",
      "\n",
      "   2025-04-11 00:00:00  2025-04-12 00:00:00  2025-04-13 00:00:00  \n",
      "0                    1                    0                    1  \n",
      "1                    1                    0                    1  \n",
      "2                    1                    0                    1  \n",
      "3                    1                    0                    1  \n",
      "4                    1                    0                    1  \n",
      "\n",
      "[5 rows x 179 columns]\n",
      "\n",
      "Dataframe shape: (315, 179)\n",
      "CSV file 'player_schedule.csv' has been saved in the 'processed_data' directory.\n"
     ]
    }
   ],
   "source": [
    "# Merge fantrax_clean with schedule\n",
    "merged_df = fantrax_clean.merge(schedule, left_on='team', right_on='team_name', how='left')\n",
    "\n",
    "# Select the columns we want\n",
    "date_columns = [col for col in schedule.columns if col != 'team_name']\n",
    "selected_columns = ['player', 'fantasy_team', 'fantasy_points_per_game', 'position', 'team'] + date_columns\n",
    "\n",
    "# Create the final dataframe\n",
    "final_df = merged_df[selected_columns]\n",
    "\n",
    "# Rename the 'team' column to 'nba_team' for clarity\n",
    "final_df = final_df.rename(columns={'team': 'nba_team'})\n",
    "\n",
    "# Sort the dataframe by fantasy_points in descending order\n",
    "final_df = final_df.sort_values('fantasy_points_per_game', ascending=False)\n",
    "\n",
    "# Reset the index\n",
    "final_df = final_df.reset_index(drop=True)\n",
    "\n",
    "# Display the first few rows and shape of the final dataframe\n",
    "print(final_df.head())\n",
    "print(\"\\nDataframe shape:\", final_df.shape)\n",
    "\n",
    "# Save the final_df as a CSV file in the processed_data directory\n",
    "import os\n",
    "\n",
    "# Save the DataFrame to a CSV file\n",
    "final_df.to_csv('../data/processed/player_schedule.csv', index=False)\n",
    "\n",
    "print(\"CSV file 'player_schedule.csv' has been saved in the 'processed_data' directory.\")\n",
    "\n"
   ]
  }
 ],
 "metadata": {
  "kernelspec": {
   "display_name": "schedule",
   "language": "python",
   "name": "python3"
  },
  "language_info": {
   "codemirror_mode": {
    "name": "ipython",
    "version": 3
   },
   "file_extension": ".py",
   "mimetype": "text/x-python",
   "name": "python",
   "nbconvert_exporter": "python",
   "pygments_lexer": "ipython3",
   "version": "3.8.8"
  }
 },
 "nbformat": 4,
 "nbformat_minor": 2
}
